{
 "cells": [
  {
   "cell_type": "code",
   "execution_count": 1,
   "metadata": {
    "collapsed": true
   },
   "outputs": [],
   "source": [
    "import numpy as np\n",
    "import nibabel as nib\n",
    "import util\n",
    "import scipy.special\n",
    "import map\n",
    "import matplotlib.pyplot as plt"
   ]
  },
  {
   "cell_type": "code",
   "execution_count": 2,
   "metadata": {
    "collapsed": true
   },
   "outputs": [],
   "source": [
    "coeffs = nib.load(\"/home/adam/GoogleDrive/Test_Output/MAP/coeffs.nii\")\n",
    "uvecs = nib.load(\"/home/adam/GoogleDrive/Test_Output/MAP/uvecs.nii\")\n",
    "mask = nib.load(\"/home/adam/GoogleDrive/Test_Output/MAP/mask.nii\")\n",
    "coeffs = coeffs.get_data()\n",
    "uvecs = uvecs.get_data()\n",
    "mask = mask.get_data()"
   ]
  },
  {
   "cell_type": "code",
   "execution_count": 3,
   "metadata": {
    "collapsed": true
   },
   "outputs": [],
   "source": [
    "ymn = map.calc_ymn(6,4)\n",
    "umn = map.calc_umn([0.8, 1, 1.2],4)\n",
    "moments = np.zeros((105,105,63,22))\n",
    "for x in range(105):\n",
    "    for y in range(105):\n",
    "        for z in range(63):\n",
    "            if mask[x,y,z] != 0:\n",
    "                moments[x,y,z,:] = map.map_coeffs_to_moments(coeffs[x,y,z,:], uvecs[x,y,z,:], ymn, 6,4)"
   ]
  },
  {
   "cell_type": "code",
   "execution_count": 5,
   "metadata": {
    "collapsed": true
   },
   "outputs": [],
   "source": [
    "tensor,cumulants = map.moments_to_HOT(moments, 0.03, 0.04)\n",
    "mk, k_par, k_perp, fa_k = map.calc_dki_params(tensor, 0.03, 0.04)"
   ]
  },
  {
   "cell_type": "code",
   "execution_count": 6,
   "metadata": {},
   "outputs": [
    {
     "data": {
      "image/png": "[encoded data removed]",
      "text/plain": [
       "<matplotlib.figure.Figure at 0x7fae302068d0>"
      ]
     },
     "metadata": {},
     "output_type": "display_data"
    }
   ],
   "source": [
    "plt.imshow(mk[:,:,29])\n",
    "plt.show()"
   ]
  },
  {
   "cell_type": "code",
   "execution_count": 3,
   "metadata": {},
   "outputs": [
    {
     "name": "stdout",
     "output_type": "stream",
     "text": [
      "Calculating GDTI Moments:      100.0 %                                                                                                                                                                                                        \n",
      "\n"
     ]
    },
    {
     "name": "stderr",
     "output_type": "stream",
     "text": [
      "map.py:944: RuntimeWarning: invalid value encountered in divide\n",
      "  tensor[:,:,:,i] /= scale\n",
      "map.py:948: RuntimeWarning: invalid value encountered in divide\n",
      "  k[:,:,:,0] = (trace ** 2) / (tensor[:,:,:,0] ** 2) * tensor[:,:,:,6]\n",
      "map.py:949: RuntimeWarning: invalid value encountered in divide\n",
      "  k[:,:,:,1] = (trace ** 2) / (tensor[:,:,:,3] ** 2) * tensor[:,:,:,16]\n",
      "map.py:950: RuntimeWarning: invalid value encountered in divide\n",
      "  k[:,:,:,2] = (trace ** 2) / (tensor[:,:,:,5] ** 2) * tensor[:,:,:,20]\n",
      "map.py:957: RuntimeWarning: invalid value encountered in divide\n",
      "  fa_k = np.sqrt(1.5 * ((k[:,:,:,0]-mk)**2 + (k[:,:,:,1]-mk)**2 + (k[:,:,:,2]-mk)**2) / (k[:,:,:,0]**2 + k[:,:,:,1]**2 + k[:,:,:,2]**2))\n"
     ]
    }
   ],
   "source": [
    "mk, k_par, k_perp, fa_k = map.calc_gdti_params(coeffs, uvecs, mask, 0.03, 0.04, 6, moment_order=4)\n",
    "\n",
    "dwi = nib.load(\"/home/adam/GoogleDrive/Test_Output/MAP/coeffs.nii\")\n",
    "img = nib.Nifti1Image(mk, dwi.affine, dwi.header)\n",
    "nib.save(img, (\"/home/adam/GoogleDrive/Test_Output/\"+ 'Mean_Kurtosis.nii'))\n",
    "\n",
    "img = nib.Nifti1Image(k_par, dwi.affine, dwi.header)\n",
    "nib.save(img, (\"/home/adam/GoogleDrive/Test_Output/\" + 'Axial_Kurtosis.nii'))\n",
    "\n",
    "img = nib.Nifti1Image(k_perp, dwi.affine, dwi.header)\n",
    "nib.save(img, (\"/home/adam/GoogleDrive/Test_Output/\" + 'Perpindicular_Kurtosis.nii'))\n",
    "\n",
    "img = nib.Nifti1Image(fa_k, dwi.affine, dwi.header)\n",
    "nib.save(img, (\"/home/adam/GoogleDrive/Test_Output/\" + 'FA_Kurtosis.nii'))"
   ]
  },
  {
   "cell_type": "code",
   "execution_count": null,
   "metadata": {
    "collapsed": true
   },
   "outputs": [],
   "source": []
  },
  {
   "cell_type": "code",
   "execution_count": null,
   "metadata": {
    "collapsed": true
   },
   "outputs": [],
   "source": []
  },
  {
   "cell_type": "code",
   "execution_count": null,
   "metadata": {
    "collapsed": true
   },
   "outputs": [],
   "source": []
  }
 ],
 "metadata": {
  "kernelspec": {
   "display_name": "Python 2",
   "language": "python",
   "name": "python2"
  },
  "language_info": {
   "codemirror_mode": {
    "name": "ipython",
    "version": 2
   },
   "file_extension": ".py",
   "mimetype": "text/x-python",
   "name": "python",
   "nbconvert_exporter": "python",
   "pygments_lexer": "ipython2",
   "version": "2.7.13"
  }
 },
 "nbformat": 4,
 "nbformat_minor": 2
}
