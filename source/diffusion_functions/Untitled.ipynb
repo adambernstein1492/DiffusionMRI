{
 "cells": [
  {
   "cell_type": "code",
   "execution_count": 1,
   "metadata": {
    "collapsed": true
   },
   "outputs": [],
   "source": [
    "import numpy as np\n",
    "import nibabel as nib\n",
    "import util\n",
    "import scipy.special\n",
    "import map"
   ]
  },
  {
   "cell_type": "code",
   "execution_count": 2,
   "metadata": {
    "collapsed": true
   },
   "outputs": [],
   "source": [
    "coeffs = nib.load(\"/mnt/c/Users/adamb/Desktop/Test/MAP/coeffs.nii\")\n",
    "uvecs = nib.load(\"/mnt/c/Users/adamb/Desktop/Test/MAP/uvecs.nii\")\n",
    "mask = nib.load(\"/mnt/c/Users/adamb/Desktop/SampleData/mask.nii\")\n",
    "coeffs = coeffs.get_data()\n",
    "uvecs = uvecs.get_data()\n",
    "mask = mask.get_data()"
   ]
  },
  {
   "cell_type": "code",
   "execution_count": 3,
   "metadata": {},
   "outputs": [
    {
     "name": "stdout",
     "output_type": "stream",
     "text": [
      "Calculating PA:      100.0 %                                                                                                                                                                                                                                                                                                                                                                                                                                                                                                                                                                                                                                                                                                                                                                                                                                                                                                                                                                                                                                       \n",
      "\n"
     ]
    }
   ],
   "source": [
    "pa_dti, pa_dti_theta, pa, pa_theta, pa_jsd = map.calc_propagator_anisotropy(coeffs, uvecs, 6, mask)"
   ]
  },
  {
   "cell_type": "code",
   "execution_count": 5,
   "metadata": {},
   "outputs": [],
   "source": [
    "dwi = nib.load(\"/mnt/c/Users/adamb/Desktop/SampleData/dwi.nii\")\n",
    "img = nib.Nifti1Image(pa_dti, dwi.affine, dwi.header)\n",
    "nib.save(img, (\"/mnt/c/Users/adamb/Desktop/Test/MAP/\" + 'PA_DTI.nii'))\n",
    "img = nib.Nifti1Image(pa_dti_theta, dwi.affine, dwi.header)\n",
    "nib.save(img, (\"/mnt/c/Users/adamb/Desktop/Test/MAP/\" + 'PA_DTI_theta.nii'))\n",
    "img = nib.Nifti1Image(pa, dwi.affine, dwi.header)\n",
    "nib.save(img, (\"/mnt/c/Users/adamb/Desktop/Test/MAP/\" + 'PA.nii'))\n",
    "img = nib.Nifti1Image(pa_theta, dwi.affine, dwi.header)\n",
    "nib.save(img, (\"/mnt/c/Users/adamb/Desktop/Test/MAP/\" + 'PA_theta.nii'))\n",
    "img = nib.Nifti1Image(pa_jsd, dwi.affine, dwi.header)\n",
    "nib.save(img, (\"/mnt/c/Users/adamb/Desktop/Test/MAP/\" + 'PA_JSD.nii'))"
   ]
  },
  {
   "cell_type": "code",
   "execution_count": null,
   "metadata": {
    "collapsed": true
   },
   "outputs": [],
   "source": []
  }
 ],
 "metadata": {
  "kernelspec": {
   "display_name": "Python 2",
   "language": "python",
   "name": "python2"
  },
  "language_info": {
   "codemirror_mode": {
    "name": "ipython",
    "version": 2
   },
   "file_extension": ".py",
   "mimetype": "text/x-python",
   "name": "python",
   "nbconvert_exporter": "python",
   "pygments_lexer": "ipython2",
   "version": "2.7.13"
  }
 },
 "nbformat": 4,
 "nbformat_minor": 2
}
