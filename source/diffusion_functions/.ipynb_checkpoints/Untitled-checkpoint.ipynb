{
 "cells": [
  {
   "cell_type": "code",
   "execution_count": 4,
   "metadata": {
    "collapsed": true
   },
   "outputs": [],
   "source": [
    "import gqi\n",
    "import numpy as np\n",
    "import spherical_harmonics as SH\n",
    "import util\n",
    "import os\n",
    "import scipy.special\n",
    "import qbi\n",
    "import dti\n",
    "import map\n",
    "import nibabel as nib"
   ]
  },
  {
   "cell_type": "code",
   "execution_count": 5,
   "metadata": {
    "collapsed": true
   },
   "outputs": [],
   "source": [
    "dwi,mask,bvals,bvecs = util.load_diffusion_data('dwi.nii','bval','bvec','mask.nii')\n",
    "data = dwi.get_data()\n",
    "mask = mask.get_data()"
   ]
  },
  {
   "cell_type": "code",
   "execution_count": 6,
   "metadata": {
    "collapsed": true
   },
   "outputs": [],
   "source": [
    "eigen_values,eigen_vectors,tensor = dti.main_dti('dwi.nii', 'bval','bvec','mask.nii', './', 2100, False,False,False,False,False,False,False,False)\n",
    "eigen_values[eigen_values <= 0] = 1e-5\n",
    "diffusion_time = 0.052 - 0.038 / 2.0\n",
    "uvectors = np.sqrt(2*eigen_values * diffusion_time)\n",
    "qvectors = util.b_to_q(bvals,bvecs,0.052,0.038)"
   ]
  },
  {
   "cell_type": "code",
   "execution_count": 7,
   "metadata": {
    "collapsed": true
   },
   "outputs": [],
   "source": [
    "for i in range(data.shape[0]):\n",
    "    for j in range(data.shape[1]):\n",
    "        for k in range(data.shape[2]):\n",
    "            eigen_vectors[i,j,k,:,:] = eigen_vectors[i,j,k,:,:].T"
   ]
  },
  {
   "cell_type": "code",
   "execution_count": null,
   "metadata": {},
   "outputs": [
    {
     "name": "stdout",
     "output_type": "stream",
     "text": [
      "Calculating ODFs:       15.3 %                                                                                                                                                        "
     ]
    }
   ],
   "source": [
    "nii = nib.load('/mnt/c/Users/adamb/Desktop/coeffs.nii')\n",
    "coeffs = nii.get_data()\n",
    "nii = nib.load('/mnt/c/Users/adamb/Desktop/uvecs.nii')\n",
    "uvectors = nii.get_data()\n",
    "MAP_Glyphs = map.fit_map_glyphs(coeffs, uvectors, eigen_vectors, 6, mask, moment=2)"
   ]
  },
  {
   "cell_type": "code",
   "execution_count": 9,
   "metadata": {},
   "outputs": [],
   "source": [
    "img = nib.Nifti1Image(MAP_Glyphs, dwi.affine, dwi.header)\n",
    "nib.save(img, '/mnt/c/Users/adamb/Desktop/MAP_ODFs.nii')"
   ]
  },
  {
   "cell_type": "code",
   "execution_count": 11,
   "metadata": {
    "collapsed": true
   },
   "outputs": [],
   "source": []
  },
  {
   "cell_type": "code",
   "execution_count": null,
   "metadata": {
    "collapsed": true
   },
   "outputs": [],
   "source": []
  },
  {
   "cell_type": "code",
   "execution_count": null,
   "metadata": {
    "collapsed": true
   },
   "outputs": [],
   "source": []
  }
 ],
 "metadata": {
  "kernelspec": {
   "display_name": "Python 2",
   "language": "python",
   "name": "python2"
  },
  "language_info": {
   "codemirror_mode": {
    "name": "ipython",
    "version": 2
   },
   "file_extension": ".py",
   "mimetype": "text/x-python",
   "name": "python",
   "nbconvert_exporter": "python",
   "pygments_lexer": "ipython2",
   "version": "2.7.13"
  }
 },
 "nbformat": 4,
 "nbformat_minor": 2
}
