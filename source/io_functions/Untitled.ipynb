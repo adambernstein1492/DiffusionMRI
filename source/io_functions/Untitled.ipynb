{
 "cells": [
  {
   "cell_type": "code",
   "execution_count": 6,
   "metadata": {
    "collapsed": true
   },
   "outputs": [],
   "source": [
    "import bruker_converter as bc\n",
    "import nibabel as nib\n",
    "import numpy as np\n",
    "import matplotlib.pyplot as plt\n",
    "import sys"
   ]
  },
  {
   "cell_type": "code",
   "execution_count": 5,
   "metadata": {
    "collapsed": true
   },
   "outputs": [],
   "source": [
    "hd = bc.read_bruker_header_file('/mnt/c/Users/adamb/Desktop/ratcogsample/DTI.D75/10/pdata/1/visu_pars')"
   ]
  },
  {
   "cell_type": "code",
   "execution_count": 6,
   "metadata": {},
   "outputs": [
    {
     "name": "stdout",
     "output_type": "stream",
     "text": [
      "[ 15.66729428 -11.88605864  25.        ]\n"
     ]
    }
   ],
   "source": [
    "offset = bc.get_offset(hd)\n",
    "print offset"
   ]
  },
  {
   "cell_type": "code",
   "execution_count": 7,
   "metadata": {},
   "outputs": [
    {
     "name": "stdout",
     "output_type": "stream",
     "text": [
      "[ 0.15  0.15  0.15]\n"
     ]
    }
   ],
   "source": [
    "res = bc.get_resolution(hd)\n",
    "print res"
   ]
  },
  {
   "cell_type": "code",
   "execution_count": 8,
   "metadata": {},
   "outputs": [
    {
     "name": "stdout",
     "output_type": "stream",
     "text": [
      "(192, 256, 128)\n"
     ]
    }
   ],
   "source": [
    "matrix = bc.get_matrix(hd)\n",
    "print matrix"
   ]
  },
  {
   "cell_type": "code",
   "execution_count": 9,
   "metadata": {},
   "outputs": [
    {
     "name": "stdout",
     "output_type": "stream",
     "text": [
      "[[ -1.49634600e-01  -1.04634697e-02  -9.16217424e-18  -1.73730412e+01]\n",
      " [  1.04634697e-02  -1.49634600e-01   6.40681628e-19  -2.38462048e+01]\n",
      " [ -9.18454699e-18   1.02407575e-25   1.50000006e-01  -1.18860588e+01]\n",
      " [ -0.00000000e+00  -0.00000000e+00  -0.00000000e+00   1.00000000e+00]]\n"
     ]
    }
   ],
   "source": [
    "affine = bc.get_affine(hd)\n",
    "print affine"
   ]
  },
  {
   "cell_type": "code",
   "execution_count": 10,
   "metadata": {},
   "outputs": [
    {
     "ename": "IndexError",
     "evalue": "too many indices for array",
     "output_type": "error",
     "traceback": [
      "\u001b[0;31m---------------------------------------------------------------------------\u001b[0m",
      "\u001b[0;31mIndexError\u001b[0m                                Traceback (most recent call last)",
      "\u001b[0;32m<ipython-input-10-1243c252f474>\u001b[0m in \u001b[0;36m<module>\u001b[0;34m()\u001b[0m\n\u001b[1;32m      2\u001b[0m \u001b[0mx\u001b[0m\u001b[0;34m.\u001b[0m\u001b[0mbyteswap\u001b[0m\u001b[0;34m(\u001b[0m\u001b[0mFalse\u001b[0m\u001b[0;34m)\u001b[0m\u001b[0;34m\u001b[0m\u001b[0m\n\u001b[1;32m      3\u001b[0m \u001b[0mx\u001b[0m \u001b[0;34m=\u001b[0m \u001b[0mnp\u001b[0m\u001b[0;34m.\u001b[0m\u001b[0mreshape\u001b[0m\u001b[0;34m(\u001b[0m\u001b[0mx\u001b[0m\u001b[0;34m,\u001b[0m\u001b[0mmatrix\u001b[0m\u001b[0;34m,\u001b[0m \u001b[0morder\u001b[0m\u001b[0;34m=\u001b[0m\u001b[0;34m'F'\u001b[0m\u001b[0;34m)\u001b[0m\u001b[0;34m\u001b[0m\u001b[0m\n\u001b[0;32m----> 4\u001b[0;31m \u001b[0mplt\u001b[0m\u001b[0;34m.\u001b[0m\u001b[0mimshow\u001b[0m\u001b[0;34m(\u001b[0m\u001b[0mx\u001b[0m\u001b[0;34m[\u001b[0m\u001b[0;34m:\u001b[0m\u001b[0;34m,\u001b[0m\u001b[0;34m:\u001b[0m\u001b[0;34m,\u001b[0m\u001b[0;36m30\u001b[0m\u001b[0;34m,\u001b[0m\u001b[0;36m1\u001b[0m\u001b[0;34m]\u001b[0m\u001b[0;34m)\u001b[0m\u001b[0;34m\u001b[0m\u001b[0m\n\u001b[0m\u001b[1;32m      5\u001b[0m \u001b[0mplt\u001b[0m\u001b[0;34m.\u001b[0m\u001b[0mshow\u001b[0m\u001b[0;34m(\u001b[0m\u001b[0;34m)\u001b[0m\u001b[0;34m\u001b[0m\u001b[0m\n",
      "\u001b[0;31mIndexError\u001b[0m: too many indices for array"
     ]
    }
   ],
   "source": [
    "x = np.fromfile('/mnt/c/Users/adamb/Desktop/ratcogsample/DTI.D75/10/pdata/1/2dseq', dtype=np.int16)\n",
    "x.byteswap(False)\n",
    "x = np.reshape(x,matrix, order='F')"
   ]
  },
  {
   "cell_type": "code",
   "execution_count": 11,
   "metadata": {
    "collapsed": true
   },
   "outputs": [],
   "source": [
    "img = nib.Nifti1Image(x, affine)\n",
    "img.qoffset_x = offset[0]\n",
    "img.qoffset_y = offset[2]\n",
    "img.qoffset_z = offset[1]\n",
    "img.affine[0:3,3] = [offset[0], offset[2], offset[1]]\n",
    "img.qform_code = 'scanner'\n",
    "img.sform_code = 'scanner'\n",
    "nib.save(img, 'test.nii')"
   ]
  },
  {
   "cell_type": "code",
   "execution_count": 7,
   "metadata": {
    "collapsed": true
   },
   "outputs": [],
   "source": [
    "import file_finder"
   ]
  },
  {
   "cell_type": "code",
   "execution_count": 11,
   "metadata": {},
   "outputs": [],
   "source": [
    "files2seq = file_finder.scan_for_files('2dseq', '/mnt/c/Users/adamb/Desktop/ratcogsample', [])\n",
    "filesmethod = file_finder.scan_for_files('method', '/mnt/c/Users/adamb/Desktop/ratcogsample', [])\n",
    "filesvisupars = file_finder.scan_for_files('visu_pars', '/mnt/c/Users/adamb/Desktop/ratcogsample', [])"
   ]
  },
  {
   "cell_type": "code",
   "execution_count": 22,
   "metadata": {},
   "outputs": [
    {
     "name": "stdout",
     "output_type": "stream",
     "text": [
      "1\n",
      "/mnt/c/Users/adamb/Desktop/ratcogsample/DTI.D74/1/\n",
      "/mnt/c/Users/adamb/Desktop/ratcogsample/DTI.D74/1/\n"
     ]
    }
   ],
   "source": [
    "print files2seq[0].split('/')[-4]\n",
    "print filesmethod[0][:-6]\n",
    "print filesvisupars[0][:-17]"
   ]
  },
  {
   "cell_type": "code",
   "execution_count": 31,
   "metadata": {},
   "outputs": [],
   "source": [
    "hd = bc.read_bruker_header_file('/mnt/c/Users/adamb/Desktop/ratcogsample/DTI.D82/8/pdata/1/visu_pars')"
   ]
  },
  {
   "cell_type": "code",
   "execution_count": 32,
   "metadata": {},
   "outputs": [
    {
     "name": "stdout",
     "output_type": "stream",
     "text": [
      "rat_cog_10152-1\n"
     ]
    }
   ],
   "source": [
    "print hd['VisuStudyId'][0]"
   ]
  },
  {
   "cell_type": "code",
   "execution_count": 33,
   "metadata": {},
   "outputs": [
    {
     "name": "stdout",
     "output_type": "stream",
     "text": [
      "['RatBrain_EPIDTI_64dirs_RPE']\n"
     ]
    }
   ],
   "source": [
    "print hd['VisuAcquisitionProtocol']"
   ]
  },
  {
   "cell_type": "code",
   "execution_count": 34,
   "metadata": {},
   "outputs": [
    {
     "data": {
      "text/plain": [
       "True"
      ]
     },
     "execution_count": 34,
     "metadata": {},
     "output_type": "execute_result"
    }
   ],
   "source": [
    "'RPE' in hd['VisuAcquisitionProtocol'][0]"
   ]
  },
  {
   "cell_type": "code",
   "execution_count": 27,
   "metadata": {},
   "outputs": [
    {
     "name": "stdout",
     "output_type": "stream",
     "text": [
      "True\n"
     ]
    }
   ],
   "source": [
    "print ('PVM_DwEffBval' in hd)"
   ]
  },
  {
   "cell_type": "code",
   "execution_count": null,
   "metadata": {
    "collapsed": true
   },
   "outputs": [],
   "source": []
  }
 ],
 "metadata": {
  "kernelspec": {
   "display_name": "Python 2",
   "language": "python",
   "name": "python2"
  },
  "language_info": {
   "codemirror_mode": {
    "name": "ipython",
    "version": 2
   },
   "file_extension": ".py",
   "mimetype": "text/x-python",
   "name": "python",
   "nbconvert_exporter": "python",
   "pygments_lexer": "ipython2",
   "version": "2.7.13"
  }
 },
 "nbformat": 4,
 "nbformat_minor": 2
}
