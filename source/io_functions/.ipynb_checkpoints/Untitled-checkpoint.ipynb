{
 "cells": [
  {
   "cell_type": "code",
   "execution_count": 3,
   "metadata": {},
   "outputs": [],
   "source": [
    "import bruker_converter as bc\n",
    "import nibabel as nib\n",
    "import numpy as np\n",
    "import matplotlib.pyplot as plt\n",
    "import sys"
   ]
  },
  {
   "cell_type": "code",
   "execution_count": 34,
   "metadata": {
    "collapsed": true
   },
   "outputs": [],
   "source": [
    "hd = bc.read_bruker_header_file('/mnt/c/Users/adamb/Desktop/ratcogsample/DTI.D75/5/pdata/1/visu_pars')"
   ]
  },
  {
   "cell_type": "code",
   "execution_count": 35,
   "metadata": {},
   "outputs": [
    {
     "name": "stdout",
     "output_type": "stream",
     "text": [
      "[-14.4  -13.    -9.55]\n"
     ]
    }
   ],
   "source": [
    "offset = bc.get_offset(hd)\n",
    "print offset"
   ]
  },
  {
   "cell_type": "code",
   "execution_count": 36,
   "metadata": {},
   "outputs": [
    {
     "name": "stdout",
     "output_type": "stream",
     "text": [
      "[ 0.3  0.3  0.9]\n"
     ]
    }
   ],
   "source": [
    "res = bc.get_resolution(hd)\n",
    "print res"
   ]
  },
  {
   "cell_type": "code",
   "execution_count": 37,
   "metadata": {},
   "outputs": [
    {
     "name": "stdout",
     "output_type": "stream",
     "text": [
      "(96, 96, 36, 72)\n"
     ]
    }
   ],
   "source": [
    "matrix = bc.get_matrix(hd)\n",
    "print matrix"
   ]
  },
  {
   "cell_type": "code",
   "execution_count": 40,
   "metadata": {},
   "outputs": [
    {
     "name": "stdout",
     "output_type": "stream",
     "text": [
      "[[-0.30000001  0.          0.          0.        ]\n",
      " [ 0.          0.          0.89999998  0.        ]\n",
      " [ 0.         -0.30000001  0.          0.        ]\n",
      " [-0.         -0.          0.          1.        ]]\n"
     ]
    }
   ],
   "source": [
    "affine = bc.get_affine(hd)\n",
    "print affine"
   ]
  },
  {
   "cell_type": "code",
   "execution_count": 42,
   "metadata": {},
   "outputs": [
    {
     "data": {
      "image/png": "[encoded data removed]",
      "text/plain": [
       "<matplotlib.figure.Figure at 0x7fd10ebb8e10>"
      ]
     },
     "metadata": {},
     "output_type": "display_data"
    }
   ],
   "source": [
    "x = np.fromfile('/mnt/c/Users/adamb/Desktop/ratcogsample/DTI.D75/5/pdata/1/2dseq', dtype=np.int16)\n",
    "x.byteswap(False)\n",
    "x = np.reshape(x,matrix, order='F')\n",
    "plt.imshow(x[:,:,30,1])\n",
    "plt.show()"
   ]
  },
  {
   "cell_type": "code",
   "execution_count": 45,
   "metadata": {},
   "outputs": [],
   "source": [
    "img = nib.Nifti1Image(x, affine)\n",
    "img.qoffset_x = -offset[0]\n",
    "img.qoffset_y = offset[2]\n",
    "img.qoffset_z = -offset[1]/2\n",
    "img.affine[0:3,3] = [-offset[0], offset[2], -offset[1]/2]\n",
    "img.qform_code = 'scanner'\n",
    "img.sform_code = 'scanner'\n",
    "nib.save(img, 'test1.nii')"
   ]
  },
  {
   "cell_type": "code",
   "execution_count": 31,
   "metadata": {},
   "outputs": [
    {
     "name": "stdout",
     "output_type": "stream",
     "text": [
      "<class 'nibabel.nifti1.Nifti1Image'>\n",
      "data shape (192, 256, 128)\n",
      "affine: \n",
      "[[ -1.49634600e-01  -1.04634697e-02  -9.16217424e-18   1.56672943e+01]\n",
      " [  1.04634697e-02  -1.49634600e-01   6.40681628e-19   1.18860586e+01]\n",
      " [ -9.18454699e-18   1.02407575e-25   1.50000006e-01   2.50000000e+01]\n",
      " [ -0.00000000e+00  -0.00000000e+00  -0.00000000e+00   1.00000000e+00]]\n",
      "metadata:\n",
      "<class 'nibabel.nifti1.Nifti1Header'> object, endian='<'\n",
      "sizeof_hdr      : 348\n",
      "data_type       : \n",
      "db_name         : \n",
      "extents         : 0\n",
      "session_error   : 0\n",
      "regular         : \n",
      "dim_info        : 0\n",
      "dim             : [  3 192 256 128   1   1   1   1]\n",
      "intent_p1       : 0.0\n",
      "intent_p2       : 0.0\n",
      "intent_p3       : 0.0\n",
      "intent_code     : none\n",
      "datatype        : int16\n",
      "bitpix          : 16\n",
      "slice_start     : 0\n",
      "pixdim          : [ 1.          0.14999999  0.14999999  0.15000001  1.          1.          1.\n",
      "  1.        ]\n",
      "vox_offset      : 0.0\n",
      "scl_slope       : nan\n",
      "scl_inter       : nan\n",
      "slice_end       : 0\n",
      "slice_code      : unknown\n",
      "xyzt_units      : 0\n",
      "cal_max         : 0.0\n",
      "cal_min         : 0.0\n",
      "slice_duration  : 0.0\n",
      "toffset         : 0.0\n",
      "glmax           : 0\n",
      "glmin           : 0\n",
      "descrip         : \n",
      "aux_file        : \n",
      "qform_code      : unknown\n",
      "sform_code      : aligned\n",
      "quatern_b       : -0.0\n",
      "quatern_c       : 3.33066907388e-16\n",
      "quatern_d       : 0.99939084053\n",
      "qoffset_x       : 15.6672945023\n",
      "qoffset_y       : 11.8860588074\n",
      "qoffset_z       : 25.0\n",
      "srow_x          : [ -1.49634600e-01  -1.04634697e-02  -9.16217424e-18   1.56672945e+01]\n",
      "srow_y          : [  1.04634697e-02  -1.49634600e-01   6.40681628e-19   1.18860588e+01]\n",
      "srow_z          : [ -9.18454699e-18   1.02407575e-25   1.50000006e-01   2.50000000e+01]\n",
      "intent_name     : \n",
      "magic           : n+1\n"
     ]
    }
   ],
   "source": [
    "print img"
   ]
  },
  {
   "cell_type": "code",
   "execution_count": 15,
   "metadata": {},
   "outputs": [
    {
     "data": {
      "text/plain": [
       "'_16BIT_SGN_INT'"
      ]
     },
     "execution_count": 15,
     "metadata": {},
     "output_type": "execute_result"
    }
   ],
   "source": [
    "hd['VisuCoreWordType']"
   ]
  },
  {
   "cell_type": "code",
   "execution_count": 16,
   "metadata": {},
   "outputs": [
    {
     "name": "stdout",
     "output_type": "stream",
     "text": [
      "<class 'nibabel.nifti1.Nifti1Header'> object, endian='<'\n",
      "sizeof_hdr      : 348\n",
      "data_type       : \n",
      "db_name         : \n",
      "extents         : 0\n",
      "session_error   : 0\n",
      "regular         : \n",
      "dim_info        : 0\n",
      "dim             : [  3 192 256 128   1   1   1   1]\n",
      "intent_p1       : 0.0\n",
      "intent_p2       : 0.0\n",
      "intent_p3       : 0.0\n",
      "intent_code     : none\n",
      "datatype        : int16\n",
      "bitpix          : 16\n",
      "slice_start     : 0\n",
      "pixdim          : [ 1.          0.14999999  0.14999999  0.15000001  1.          1.          1.\n",
      "  1.        ]\n",
      "vox_offset      : 0.0\n",
      "scl_slope       : nan\n",
      "scl_inter       : nan\n",
      "slice_end       : 0\n",
      "slice_code      : unknown\n",
      "xyzt_units      : 0\n",
      "cal_max         : 0.0\n",
      "cal_min         : 0.0\n",
      "slice_duration  : 0.0\n",
      "toffset         : 0.0\n",
      "glmax           : 0\n",
      "glmin           : 0\n",
      "descrip         : \n",
      "aux_file        : \n",
      "qform_code      : unknown\n",
      "sform_code      : aligned\n",
      "quatern_b       : -0.0\n",
      "quatern_c       : 3.33066907388e-16\n",
      "quatern_d       : 0.99939084053\n",
      "qoffset_x       : 0.0\n",
      "qoffset_y       : 0.0\n",
      "qoffset_z       : -0.0\n",
      "srow_x          : [ -1.49634600e-01  -1.04634697e-02  -9.16217424e-18   0.00000000e+00]\n",
      "srow_y          : [  1.04634697e-02  -1.49634600e-01   6.40681628e-19   0.00000000e+00]\n",
      "srow_z          : [ -9.18454699e-18   1.02407575e-25   1.50000006e-01  -0.00000000e+00]\n",
      "intent_name     : \n",
      "magic           : n+1\n"
     ]
    }
   ],
   "source": [
    "nii = nib.load('/mnt/c/Users/adamb/Documents/Repos/Code/DiffusionMRI/source/io_functions/test.nii')\n",
    "print nii.header"
   ]
  },
  {
   "cell_type": "code",
   "execution_count": 10,
   "metadata": {
    "collapsed": true
   },
   "outputs": [],
   "source": [
    "x = nii.get_data()"
   ]
  },
  {
   "cell_type": "code",
   "execution_count": 11,
   "metadata": {},
   "outputs": [
    {
     "ename": "TypeError",
     "evalue": "__init__() takes at least 3 arguments (2 given)",
     "output_type": "error",
     "traceback": [
      "\u001b[0;31m---------------------------------------------------------------------------\u001b[0m",
      "\u001b[0;31mTypeError\u001b[0m                                 Traceback (most recent call last)",
      "\u001b[0;32m<ipython-input-11-e30da6b023ce>\u001b[0m in \u001b[0;36m<module>\u001b[0;34m()\u001b[0m\n\u001b[0;32m----> 1\u001b[0;31m \u001b[0mimg_test\u001b[0m \u001b[0;34m=\u001b[0m \u001b[0mnib\u001b[0m\u001b[0;34m.\u001b[0m\u001b[0mNifti1Image\u001b[0m\u001b[0;34m(\u001b[0m\u001b[0mx\u001b[0m\u001b[0;34m)\u001b[0m\u001b[0;34m\u001b[0m\u001b[0m\n\u001b[0m\u001b[1;32m      2\u001b[0m \u001b[0;32mprint\u001b[0m \u001b[0mimg_test\u001b[0m\u001b[0;34m\u001b[0m\u001b[0m\n",
      "\u001b[0;31mTypeError\u001b[0m: __init__() takes at least 3 arguments (2 given)"
     ]
    }
   ],
   "source": [
    "img_test = nib.Nifti1Image(x)\n",
    "print img_test"
   ]
  },
  {
   "cell_type": "code",
   "execution_count": null,
   "metadata": {
    "collapsed": true
   },
   "outputs": [],
   "source": []
  }
 ],
 "metadata": {
  "kernelspec": {
   "display_name": "Python 2",
   "language": "python",
   "name": "python2"
  }
 },
 "nbformat": 4,
 "nbformat_minor": 2
}
