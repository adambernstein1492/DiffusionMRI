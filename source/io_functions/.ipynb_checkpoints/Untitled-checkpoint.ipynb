{
 "cells": [
  {
   "cell_type": "code",
   "execution_count": 124,
   "metadata": {},
   "outputs": [],
   "source": [
    "import file_finder\n",
    "import os\n",
    "import numpy as np\n",
    "import nibabel as nib"
   ]
  },
  {
   "cell_type": "code",
   "execution_count": 130,
   "metadata": {},
   "outputs": [],
   "source": [
    "out_path = 'C:\\\\Users\\\\adamb\\\\Desktop\\\\NIFTI_TEST'\n",
    "bvals, bvecs, niftis = file_finder.scan_for_diffusion_imgs(out_path, [], [], [])\n",
    "\n",
    "groups = [[]]\n",
    "\n",
    "start_index = 0\n",
    "all_files = True\n",
    "group = 0\n",
    "total_files = 0\n",
    "while all_files:\n",
    "\n",
    "    bval_path = os.path.split(os.path.split(os.path.abspath(bvals[start_index]))[0])[1]\n",
    "    groups[group].append(os.path.abspath(bvals[start_index]))\n",
    "    total_files += 1\n",
    "\n",
    "    start_index += 1\n",
    "    for i in range(start_index,len(bvals)):\n",
    "        bval_path_1 = os.path.split(os.path.split(os.path.abspath(bvals[i]))[0])[1]\n",
    "\n",
    "        if bval_path == bval_path_1:\n",
    "            groups[group].append(os.path.abspath(bvals[i]))\n",
    "\n",
    "            start_index += 1\n",
    "            total_files += 1\n",
    "\n",
    "    group += 1\n",
    "    if total_files == len(bvals):\n",
    "        all_files = False\n",
    "    else:\n",
    "        groups.append([])\n",
    "\n",
    "for i in range(len(groups)):\n",
    "    bval = []\n",
    "    bvec = []\n",
    "    img = []\n",
    "    \n",
    "    if len(groups[i]) >= 2:\n",
    "        for j in range(len(groups[i])):\n",
    "            bval.append(np.loadtxt(groups[0][j]))\n",
    "            bvec.append(np.loadtxt(groups[0][j][:-4] + 'bvec'))\n",
    "\n",
    "            dwi = nib.load(groups[0][j][:-4] + 'nii')\n",
    "            img.append(dwi.get_data())\n",
    "\n",
    "        save_base_name = groups[i][0][:-5] + '_' + groups[i][1][-6:-5] \n",
    "        merged_bval = np.concatenate((bval[0], bval[1]), axis=0)\n",
    "        merged_bvec = np.concatenate((bvec[0], bvec[1]), axis=1)\n",
    "        merged_img = np.concatenate((img[0], img[1]), axis=3)\n",
    "\n",
    "        for j in range(2,len(groups[i])):\n",
    "            save_base_name = save_base_name + '_' + groups[i][j][-6:-5]\n",
    "            merged_bval = np.concatenate((merged_bval, bval[j]), axis=0)\n",
    "            merged_bvec = np.concatenate((merged_bvec, bvec[j]), axis=1)\n",
    "            merged_img = np.concatenate((merged_img, img[j]), axis=3)\n",
    "            \n",
    "        np.savetxt(save_base_name + '.bval', merged_bval)\n",
    "        np.savetxt(save_base_name + '.bvec', merged_bvec)\n",
    "        img = nib.Nifti1Image(merged_img, dwi.affine)\n",
    "        nib.save(img, save_base_name + '.nii')\n",
    "        \n",
    "        for j in range((len(groups[i]))):\n",
    "            os.remove(groups[i][j])\n",
    "            os.remove(groups[i][j][:-4] + 'bvec')\n",
    "            os.remove(groups[i][j][:-4] + 'nii')\n",
    "     \n",
    "        "
   ]
  },
  {
   "cell_type": "code",
   "execution_count": 126,
   "metadata": {},
   "outputs": [
    {
     "name": "stdout",
     "output_type": "stream",
     "text": [
      "[['C:\\\\Users\\\\adamb\\\\Desktop\\\\NIFTI_TEST\\\\rat_cog_10231\\\\RatBrain_EPIDTI_64dirs_5.bval', 'C:\\\\Users\\\\adamb\\\\Desktop\\\\NIFTI_TEST\\\\rat_cog_10231\\\\RatBrain_EPIDTI_64dirs_6.bval', 'C:\\\\Users\\\\adamb\\\\Desktop\\\\NIFTI_TEST\\\\rat_cog_10231\\\\RatBrain_EPIDTI_64dirs_7.bval'], ['C:\\\\Users\\\\adamb\\\\Desktop\\\\NIFTI_TEST\\\\rat_cog_10232\\\\RatBrain_EPIDTI_64dirs_5.bval', 'C:\\\\Users\\\\adamb\\\\Desktop\\\\NIFTI_TEST\\\\rat_cog_10232\\\\RatBrain_EPIDTI_64dirs_6.bval', 'C:\\\\Users\\\\adamb\\\\Desktop\\\\NIFTI_TEST\\\\rat_cog_10232\\\\RatBrain_EPIDTI_64dirs_7.bval'], ['C:\\\\Users\\\\adamb\\\\Desktop\\\\NIFTI_TEST\\\\rat_cog_10233\\\\RatBrain_EPIDTI_64dirs_5.bval']]\n"
     ]
    }
   ],
   "source": [
    "print groups"
   ]
  },
  {
   "cell_type": "code",
   "execution_count": 129,
   "metadata": {},
   "outputs": [
    {
     "data": {
      "text/plain": [
       "'5'"
      ]
     },
     "execution_count": 129,
     "metadata": {},
     "output_type": "execute_result"
    }
   ],
   "source": [
    "groups[0][0][-6:-5]"
   ]
  },
  {
   "cell_type": "code",
   "execution_count": null,
   "metadata": {},
   "outputs": [],
   "source": []
  },
  {
   "cell_type": "code",
   "execution_count": null,
   "metadata": {},
   "outputs": [],
   "source": []
  },
  {
   "cell_type": "code",
   "execution_count": null,
   "metadata": {},
   "outputs": [],
   "source": []
  },
  {
   "cell_type": "code",
   "execution_count": null,
   "metadata": {},
   "outputs": [],
   "source": []
  }
 ],
 "metadata": {
  "kernelspec": {
   "display_name": "Python 2",
   "language": "python",
   "name": "python2"
  },
  "language_info": {
   "codemirror_mode": {
    "name": "ipython",
    "version": 2
   },
   "file_extension": ".py",
   "mimetype": "text/x-python",
   "name": "python",
   "nbconvert_exporter": "python",
   "pygments_lexer": "ipython2",
   "version": "2.7.14"
  }
 },
 "nbformat": 4,
 "nbformat_minor": 2
}
